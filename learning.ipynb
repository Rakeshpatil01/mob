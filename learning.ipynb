{
  "nbformat": 4,
  "nbformat_minor": 0,
  "metadata": {
    "colab": {
      "name": "learning.ipynb",
      "provenance": [],
      "collapsed_sections": [],
      "authorship_tag": "ABX9TyOVZ82T9HdKuhzGg2u6b5V0",
      "include_colab_link": true
    },
    "kernelspec": {
      "name": "python3",
      "display_name": "Python 3"
    },
    "language_info": {
      "name": "python"
    }
  },
  "cells": [
    {
      "cell_type": "markdown",
      "metadata": {
        "id": "view-in-github",
        "colab_type": "text"
      },
      "source": [
        "<a href=\"https://colab.research.google.com/github/Rakeshpatil01/mob/blob/master/learning.ipynb\" target=\"_parent\"><img src=\"https://colab.research.google.com/assets/colab-badge.svg\" alt=\"Open In Colab\"/></a>"
      ]
    },
    {
      "cell_type": "code",
      "metadata": {
        "id": "Idbj_0-1aZyW"
      },
      "source": [
        "import numpy as np\n",
        "# scipy.special for the sigmoid function expit()\n",
        "import scipy.special"
      ],
      "execution_count": 9,
      "outputs": []
    },
    {
      "cell_type": "code",
      "metadata": {
        "id": "sjqvxe1DU9JV"
      },
      "source": [
        "# neural network class definition\n",
        "class nerualNetwork:\n",
        "\n",
        "  # initialise the neural network\n",
        "  def __init__(self, inputnodes, hiddennodes, outputnodes, learningrate):\n",
        "    # set number of nodes in each input, hidden, output layer\n",
        "    self.inodes = inputnodes\n",
        "    self.hnodes = hiddennodes\n",
        "    self.onodes = outputnodes\n",
        "\n",
        "    # link weight matrices, wih hidden_nodes by input_nodes\n",
        "    # and who output_nodes by hidden_nodes\n",
        "    # weights inside the arrays are w_i_j, where link is from node i to node j in the next layer\n",
        "    # w11 w22\n",
        "    # w12 w22 etc\n",
        "    self.wih = (np.random.normal(0.0, pow(self.hnodes, -0.5), (self.hnodes, self.inodes)))\n",
        "    self.who = (np.random.normal(0.0, pow(self.onodes, -0.5), (self.onodes, self.hnodes)))\n",
        "   \n",
        "    # learning rate\n",
        "    self.lr = learningrate\n",
        "    # activateion function  is the sigmoid function\n",
        "    self.activation_function = lambda x: scipy.special.expit(x)\n",
        "\n",
        "    pass\n",
        "\n",
        "  # train the neural network\n",
        "  def train():\n",
        "    pass\n",
        "\n",
        "  # query the nerual network\n",
        "  def query(self, inputs_list):\n",
        "    \n",
        "    # convert inputs list to 2d array\n",
        "    inputs = np.array(inputs_list, ndmin=2).T\n",
        "\n",
        "    # calculate signals into hidden layer\n",
        "    hidden_inputs = np.dot(self.wih, inputs)\n",
        "\n",
        "    #calculate the signals emerging from hidden layer\n",
        "    hidden_outputs = self.activation_function(hidden_inputs)\n",
        "\n",
        "    # calculate signals into final output layer\n",
        "    final_inputs = np.dot(self.who, hidden_outputs)\n",
        "\n",
        "    # calculate the signals emerging from final outptut layer\n",
        "    final_outputs = self.activation_function(final_inputs)\n",
        "    \n",
        "    return final_outputs"
      ],
      "execution_count": 11,
      "outputs": []
    },
    {
      "cell_type": "code",
      "metadata": {
        "id": "R5cEQEvlZEOD"
      },
      "source": [
        "# number of input, hidden and output nodes\n",
        "input_nodes = 3\n",
        "hidden_nodes = 3\n",
        "output_nodes = 3\n",
        "\n",
        "# learning rate is 0.3\n",
        "learning_rate = 0.3\n",
        "\n",
        "# create instance of neural network\n",
        "n = nerualNetwork(input_nodes, hidden_nodes, output_nodes, learning_rate)"
      ],
      "execution_count": 12,
      "outputs": []
    }
  ]
}