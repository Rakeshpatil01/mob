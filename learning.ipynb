{
  "nbformat": 4,
  "nbformat_minor": 0,
  "metadata": {
    "colab": {
      "name": "learning.ipynb",
      "provenance": [],
      "collapsed_sections": [],
      "authorship_tag": "ABX9TyOcJXbA1TCu0ns0POT5oyIv",
      "include_colab_link": true
    },
    "kernelspec": {
      "name": "python3",
      "display_name": "Python 3"
    },
    "language_info": {
      "name": "python"
    }
  },
  "cells": [
    {
      "cell_type": "markdown",
      "metadata": {
        "id": "view-in-github",
        "colab_type": "text"
      },
      "source": [
        "<a href=\"https://colab.research.google.com/github/Rakeshpatil01/mob/blob/master/learning.ipynb\" target=\"_parent\"><img src=\"https://colab.research.google.com/assets/colab-badge.svg\" alt=\"Open In Colab\"/></a>"
      ]
    },
    {
      "cell_type": "code",
      "metadata": {
        "id": "Idbj_0-1aZyW"
      },
      "source": [
        "import numpy as np\n",
        "# scipy.special for the sigmoid function expit()\n",
        "import scipy.special"
      ],
      "execution_count": null,
      "outputs": []
    },
    {
      "cell_type": "code",
      "metadata": {
        "id": "sjqvxe1DU9JV"
      },
      "source": [
        "# neural network class definition\n",
        "class nerualNetwork:\n",
        "\n",
        "  # initialise the neural network\n",
        "  def __init__(self, inputnodes, hiddennodes, outputnodes, learningrate):\n",
        "    # set number of nodes in each input, hidden, output layer\n",
        "    self.inodes = inputnodes\n",
        "    self.hnodes = hiddennodes\n",
        "    self.onodes = outputnodes\n",
        "\n",
        "    # link weight matrices, wih hidden_nodes by input_nodes\n",
        "    # and who output_nodes by hidden_nodes\n",
        "    # weights inside the arrays are w_i_j, where link is from node i to node j in the next layer\n",
        "    # w11 w22\n",
        "    # w12 w22 etc\n",
        "    self.wih = (np.random.normal(0.0, pow(self.hnodes, -0.5), (self.hnodes, self.inodes)))\n",
        "    self.who = (np.random.normal(0.0, pow(self.onodes, -0.5), (self.onodes, self.hnodes)))\n",
        "   \n",
        "    # learning rate\n",
        "    self.lr = learningrate\n",
        "    # activateion function  is the sigmoid function\n",
        "    self.activation_function = lambda x: scipy.special.expit(x)\n",
        "\n",
        "    pass\n",
        "\n",
        "  # train the neural network\n",
        "  def train(self, inputs_list, targets_list):\n",
        "    \n",
        "    # convert inputs list to 2d array\n",
        "    inputs = np.array(inputs_list, ndmin=2).T\n",
        "    targets = np.array(targets_list, ndmin=2).T\n",
        "\n",
        "    # calculate the signals into hdden layer\n",
        "    hidden_inputs = np.dot(self.wih, inputs)\n",
        "\n",
        "    # calculate the signals emerging from hidden layer\n",
        "    hidden_outputs = self.activation_function(hidden_inputs)\n",
        "    \n",
        "    # calculate signals into final output layer\n",
        "    final_inputs = np.dot(self.who, hidden_outputs)\n",
        "\n",
        "    # calculate the signals emerging from final output layer\n",
        "    final_outputs = self.activation_function(final_inputs)\n",
        "\n",
        "    # output layer error is the target - actual\n",
        "    output_errors = targets - final_outputs\n",
        "\n",
        "    # hidden layer error is the output_errors, split by weights, recombined at hidden nodes\n",
        "    hidden_errors = numpy.dot(self.who.T, output_errors)\n",
        "\n",
        "    # update the weights for the links between the hidden and output layers\n",
        "    self.who += self.lr* np.dot((output_errors*final_outputs*(1.0 - final_outputs)),np.transpose(hidden_outputs))\n",
        "    \n",
        "    # update the weights for the links between the iput and hidden layers\n",
        "    self.wih += self.lr* np.dot((hidden_errors*hidden_outputs*(1.0 - hidden_outputs)),np.transpose(inputs))\n",
        "    \n",
        "    pass\n",
        "\n",
        "  # query the nerual network\n",
        "  def query(self, inputs_list):\n",
        "    \n",
        "    # convert inputs list to 2d array\n",
        "    inputs = np.array(inputs_list, ndmin=2).T\n",
        "\n",
        "    # calculate signals into hidden layer\n",
        "    hidden_inputs = np.dot(self.wih, inputs)\n",
        "\n",
        "    #calculate the signals emerging from hidden layer\n",
        "    hidden_outputs = self.activation_function(hidden_inputs)\n",
        "\n",
        "    # calculate signals into final output layer\n",
        "    final_inputs = np.dot(self.who, hidden_outputs)\n",
        "\n",
        "    # calculate the signals emerging from final outptut layer\n",
        "    final_outputs = self.activation_function(final_inputs)\n",
        "    \n",
        "    return final_outputs"
      ],
      "execution_count": null,
      "outputs": []
    },
    {
      "cell_type": "code",
      "metadata": {
        "id": "R5cEQEvlZEOD"
      },
      "source": [
        "# number of input, hidden and output nodes\n",
        "input_nodes = 3\n",
        "hidden_nodes = 3\n",
        "output_nodes = 3\n",
        "\n",
        "# learning rate is 0.3\n",
        "learning_rate = 0.3\n",
        "\n",
        "# create instance of neural network\n",
        "n = nerualNetwork(input_nodes, hidden_nodes, output_nodes, learning_rate)"
      ],
      "execution_count": null,
      "outputs": []
    },
    {
      "cell_type": "code",
      "metadata": {
        "colab": {
          "base_uri": "https://localhost:8080/"
        },
        "id": "VYjPU0kwGvzj",
        "outputId": "ccfacec4-94ed-4482-f1a6-0b64564accc7"
      },
      "source": [
        "n.query([1.0, 0.5, -1.5])"
      ],
      "execution_count": null,
      "outputs": [
        {
          "output_type": "execute_result",
          "data": {
            "text/plain": [
              "array([[0.56158164],\n",
              "       [0.56431064],\n",
              "       [0.41537439]])"
            ]
          },
          "metadata": {},
          "execution_count": 6
        }
      ]
    }
  ]
}